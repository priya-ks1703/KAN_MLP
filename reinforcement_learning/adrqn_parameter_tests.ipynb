{
 "cells": [
  {
   "cell_type": "code",
   "execution_count": 1,
   "metadata": {},
   "outputs": [
    {
     "name": "stderr",
     "output_type": "stream",
     "text": [
      "c:\\Users\\PRIYA\\Desktop\\masters\\DL Lab\\kan\\venv\\lib\\site-packages\\tqdm\\auto.py:21: TqdmWarning: IProgress not found. Please update jupyter and ipywidgets. See https://ipywidgets.readthedocs.io/en/stable/user_install.html\n",
      "  from .autonotebook import tqdm as notebook_tqdm\n"
     ]
    }
   ],
   "source": [
    "import gym\n",
    "from agent.dqn_agent import ADRQN, ADRQNKAN\n",
    "\n",
    "env = gym.make('CartPole-v1')\n",
    "state_size = env.observation_space.shape[0]\n",
    "n_actions = env.action_space.n\n",
    "embedding_size = 8\n",
    "\n",
    "adrqn = ADRQN(n_actions, state_size, embedding_size)\n",
    "adrqnkan = ADRQNKAN(n_actions, state_size, embedding_size)"
   ]
  },
  {
   "cell_type": "code",
   "execution_count": 2,
   "metadata": {},
   "outputs": [
    {
     "name": "stdout",
     "output_type": "stream",
     "text": [
      "ADRQN parameter number: 116150\n",
      "ADRQNKAN parameter number: 115186\n"
     ]
    }
   ],
   "source": [
    "adrqn_parameter_number = sum(p.numel() for p in adrqn.parameters())\n",
    "adrqnkan_parameter_number = sum(p.numel() for p in adrqnkan.parameters())\n",
    "\n",
    "print(f'ADRQN parameter number: {adrqn_parameter_number}')\n",
    "print(f'ADRQNKAN parameter number: {adrqnkan_parameter_number}')"
   ]
  },
  {
   "cell_type": "code",
   "execution_count": 3,
   "metadata": {},
   "outputs": [
    {
     "name": "stdout",
     "output_type": "stream",
     "text": [
      "ADRQN LSTM parameter number: 115200\n",
      "ADRQNKAN LSTM parameter number: 112567\n"
     ]
    }
   ],
   "source": [
    "adrqn_lstm = adrqn.lstm\n",
    "adrqnkan_lstm = adrqnkan.lstm\n",
    "\n",
    "adrqn_lstm_parameter_number = sum(p.numel() for p in adrqn_lstm.parameters())\n",
    "adrqnkan_lstm_parameter_number = sum(p.numel() for p in adrqnkan_lstm.parameters())\n",
    "\n",
    "print(f'ADRQN LSTM parameter number: {adrqn_lstm_parameter_number}')\n",
    "print(f'ADRQNKAN LSTM parameter number: {adrqnkan_lstm_parameter_number}')"
   ]
  }
 ],
 "metadata": {
  "kernelspec": {
   "display_name": "venv",
   "language": "python",
   "name": "python3"
  },
  "language_info": {
   "codemirror_mode": {
    "name": "ipython",
    "version": 3
   },
   "file_extension": ".py",
   "mimetype": "text/x-python",
   "name": "python",
   "nbconvert_exporter": "python",
   "pygments_lexer": "ipython3",
   "version": "3.8.0"
  }
 },
 "nbformat": 4,
 "nbformat_minor": 2
}
